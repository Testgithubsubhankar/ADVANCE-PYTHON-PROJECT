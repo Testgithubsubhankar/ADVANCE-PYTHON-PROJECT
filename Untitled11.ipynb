{
 "cells": [
  {
   "cell_type": "markdown",
   "id": "a2acca2d",
   "metadata": {},
   "source": [
    "Q1. What is the purpose of Python's OOP?"
   ]
  },
  {
   "cell_type": "markdown",
   "id": "a2265982",
   "metadata": {},
   "source": [
    "In Python, object-oriented Programming (OOPs) is a programming paradigm that uses objects and classes in programming. It aims to implement real-world entities like inheritance, polymorphisms, encapsulation, etc. in the programming. The main concept of OOPs is to bind the data and the functions that work on that together as a single unit so that no other part of the code can access this data."
   ]
  },
  {
   "cell_type": "markdown",
   "id": "111853aa",
   "metadata": {},
   "source": [
    "Q2. Where does an inheritance search look for an attribute?"
   ]
  },
  {
   "cell_type": "markdown",
   "id": "f513f9fa",
   "metadata": {},
   "source": [
    "One of the core concepts in object-oriented programming (OOP) languages is inheritance. It is a mechanism that allows you to create a hierarchy of classes that share a set of properties and methods by deriving a class from another class. Inheritance is the capability of one class to derive or inherit the properties from another class. "
   ]
  },
  {
   "cell_type": "markdown",
   "id": "1969686e",
   "metadata": {},
   "source": [
    "Q3. How do you distinguish between a class object and an instance object?"
   ]
  },
  {
   "cell_type": "markdown",
   "id": "9824747a",
   "metadata": {},
   "source": [
    "A class is a blueprint which you use to create objects. An object is an instance of a class - it's a concrete 'thing' that you made using a specific class. So, 'object' and 'instance' are the same thing, but the word 'instance' indicates the relationship of an object to its class."
   ]
  },
  {
   "cell_type": "markdown",
   "id": "75cfcf2e",
   "metadata": {},
   "source": [
    "Q4. What makes the first argument in a class’s method function special?"
   ]
  },
  {
   "cell_type": "markdown",
   "id": "4fd1fa17",
   "metadata": {},
   "source": [
    "\n",
    "First class objects in a language are handled uniformly throughout. They may be stored in data structures, passed as arguments, or used in control structures. A programming language is said to support first-class functions if it treats functions as first-class objects. Python supports the concept of First Class functions."
   ]
  },
  {
   "cell_type": "markdown",
   "id": "64c55e93",
   "metadata": {},
   "source": [
    "Q5. What is the purpose of the __init__ method?"
   ]
  },
  {
   "cell_type": "markdown",
   "id": "1e12cfd5",
   "metadata": {},
   "source": [
    "\"__init__\" is a reseved method in python classes. It is called as a constructor in object oriented terminology. This method is called when an object is created from a class and it allows the class to initialize the attributes of the class."
   ]
  },
  {
   "cell_type": "markdown",
   "id": "bd33a0e4",
   "metadata": {},
   "source": [
    "Q6. What is the process for creating a class instance?"
   ]
  },
  {
   "cell_type": "markdown",
   "id": "58a2015a",
   "metadata": {},
   "source": [
    "To create instances of a class, you call the class using class name and pass in whatever arguments its __init__ method accepts. You access the object's attributes using the dot operator with object. Class variable would be accessed using class name as follows − You can add, remove, or modify attributes of classes and objects at any time "
   ]
  },
  {
   "cell_type": "markdown",
   "id": "2733835e",
   "metadata": {},
   "source": [
    "Q7. What is the process for creating a class?"
   ]
  },
  {
   "cell_type": "markdown",
   "id": "5f33a794",
   "metadata": {},
   "source": [
    "The first step in creating your own class is identifying what state you want to capture to describe objects. ...\n",
    "Defining a Class Instead of using a predefined class like PVector, you can define your own class. ...\n",
    "Defining Constructors ...\n",
    "Class Functions ...\n",
    "Let Objects Handle Themselves ...\n",
    "Creating Many Instances ...\n",
    "Instance State ...\n",
    "Objects can contain other objects! "
   ]
  },
  {
   "cell_type": "markdown",
   "id": "4f064ce4",
   "metadata": {},
   "source": [
    "Q8. How would you define the superclasses of a class?"
   ]
  },
  {
   "cell_type": "code",
   "execution_count": 1,
   "id": "09846f3c",
   "metadata": {},
   "outputs": [
    {
     "name": "stdout",
     "output_type": "stream",
     "text": [
      "Dog cannot fly\n",
      "Dog cannot swim\n",
      "Dog Is a mammal\n"
     ]
    }
   ],
   "source": [
    "\n",
    "class Mammal():\n",
    " \n",
    "    def __init__(self, name):\n",
    "        print(name, \"Is a mammal\")\n",
    " \n",
    "class canFly(Mammal):\n",
    " \n",
    "    def __init__(self, canFly_name):\n",
    "        print(canFly_name, \"cannot fly\")\n",
    " \n",
    "        \n",
    "        \n",
    "        super().__init__(canFly_name)\n",
    " \n",
    "class canSwim(Mammal):\n",
    " \n",
    "    def __init__(self, canSwim_name):\n",
    " \n",
    "        print(canSwim_name, \"cannot swim\")\n",
    " \n",
    "        super().__init__(canSwim_name)\n",
    " \n",
    "class Animal(canFly, canSwim):\n",
    " \n",
    "    def __init__(self, name):\n",
    "        super().__init__(name)\n",
    " \n",
    "\n",
    "Carol = Animal(\"Dog\")"
   ]
  },
  {
   "cell_type": "code",
   "execution_count": null,
   "id": "690eea06",
   "metadata": {},
   "outputs": [],
   "source": []
  }
 ],
 "metadata": {
  "kernelspec": {
   "display_name": "Python 3 (ipykernel)",
   "language": "python",
   "name": "python3"
  },
  "language_info": {
   "codemirror_mode": {
    "name": "ipython",
    "version": 3
   },
   "file_extension": ".py",
   "mimetype": "text/x-python",
   "name": "python",
   "nbconvert_exporter": "python",
   "pygments_lexer": "ipython3",
   "version": "3.9.13"
  }
 },
 "nbformat": 4,
 "nbformat_minor": 5
}
