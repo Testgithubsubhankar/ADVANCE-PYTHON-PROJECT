{
 "cells": [
  {
   "cell_type": "markdown",
   "id": "27a176ca",
   "metadata": {},
   "source": [
    "1. Write a Python program to Extract Unique values dictionary values?"
   ]
  },
  {
   "cell_type": "code",
   "execution_count": 1,
   "id": "4c7137c5",
   "metadata": {},
   "outputs": [
    {
     "name": "stdout",
     "output_type": "stream",
     "text": [
      "The original dictionary is : {'Afe': [5, 6, 7, 8], 'is': [10, 11, 7, 5], 'good': [6, 12, 10, 8], 'if': [1, 2, 5]}\n",
      "The unique values list is : [1, 2, 5, 6, 7, 8, 10, 11, 12]\n"
     ]
    }
   ],
   "source": [
    "test_dict = {'Afe': [5, 6, 7, 8],\n",
    "             'is': [10, 11, 7, 5],\n",
    "             'good': [6, 12, 10, 8],\n",
    "             'if': [1, 2, 5]}\n",
    " \n",
    "\n",
    "print(\"The original dictionary is : \" + str(test_dict))\n",
    " \n",
    "\n",
    "res = list(sorted({ele for val in test_dict.values() for ele in val}))\n",
    " \n",
    "\n",
    "print(\"The unique values list is : \" + str(res))"
   ]
  },
  {
   "cell_type": "markdown",
   "id": "6dc74f90",
   "metadata": {},
   "source": [
    "2. Write a Python program to find the sum of all items in a dictionary?"
   ]
  },
  {
   "cell_type": "code",
   "execution_count": 2,
   "id": "d63b7be6",
   "metadata": {},
   "outputs": [
    {
     "name": "stdout",
     "output_type": "stream",
     "text": [
      "Sum : 600\n"
     ]
    }
   ],
   "source": [
    "def returnSum(myDict):\n",
    " \n",
    "    list = []\n",
    "    for i in myDict:\n",
    "        list.append(myDict[i])\n",
    "    final = sum(list)\n",
    " \n",
    "    return final\n",
    " \n",
    " \n",
    "\n",
    "dict = {'a': 100, 'b': 200, 'c': 300}\n",
    "print(\"Sum :\", returnSum(dict))"
   ]
  },
  {
   "cell_type": "markdown",
   "id": "deadcc43",
   "metadata": {},
   "source": [
    "3. Write a Python program to Merging two Dictionaries?"
   ]
  },
  {
   "cell_type": "code",
   "execution_count": 5,
   "id": "cb429fd5",
   "metadata": {},
   "outputs": [
    {
     "name": "stdout",
     "output_type": "stream",
     "text": [
      "{'x': 10, 'y': 8, 'a': 6, 'b': 4}\n"
     ]
    }
   ],
   "source": [
    "def Merge(dict1, dict2):\n",
    "    for i in dict2.keys():\n",
    "        dict1[i]=dict2[i]\n",
    "    return dict1\n",
    "     \n",
    "\n",
    "dict1 = {'x': 10, 'y': 8}\n",
    "dict2 = {'a': 6, 'b': 4}\n",
    "dict3 = Merge(dict1, dict2)\n",
    "print(dict3)"
   ]
  },
  {
   "cell_type": "markdown",
   "id": "4daecfdd",
   "metadata": {},
   "source": [
    "4. Write a Python program to convert key-values list to flat dictionary?"
   ]
  },
  {
   "cell_type": "code",
   "execution_count": 2,
   "id": "ef9bfe1f",
   "metadata": {},
   "outputs": [
    {
     "name": "stdout",
     "output_type": "stream",
     "text": [
      "The original dictionary is : {'month': [1, 2, 3], 'name': ['Jan', 'Feb', 'March']}\n",
      "Flattened dictionary : {1: 'Jan', 2: 'Feb', 3: 'March'}\n"
     ]
    }
   ],
   "source": [
    "from itertools import product\n",
    " \n",
    "\n",
    "test_dict = {'month' : [1, 2, 3],\n",
    "             'name' : ['Jan', 'Feb', 'March']}\n",
    " \n",
    "\n",
    "print(\"The original dictionary is : \" + str(test_dict))\n",
    " \n",
    "\n",
    "res = dict(zip(test_dict['month'], test_dict['name']))\n",
    " \n",
    "\n",
    "print(\"Flattened dictionary : \" + str(res))"
   ]
  },
  {
   "cell_type": "markdown",
   "id": "13631710",
   "metadata": {},
   "source": [
    "5. Write a Python program to insertion at the beginning in OrderedDict?"
   ]
  },
  {
   "cell_type": "code",
   "execution_count": 4,
   "id": "a8500a86",
   "metadata": {},
   "outputs": [
    {
     "name": "stdout",
     "output_type": "stream",
     "text": [
      "Resultant Dictionary : OrderedDict([('manjeet', '3'), ('akshat', '1'), ('nikhil', '2')])\n"
     ]
    }
   ],
   "source": [
    "from collections import OrderedDict\n",
    " \n",
    "\n",
    "iniordered_dict = OrderedDict([('akshat', '1'), ('nikhil', '2')])\n",
    " \n",
    "\n",
    "iniordered_dict.update({'manjeet':'3'})\n",
    "iniordered_dict.move_to_end('manjeet', last = False)\n",
    " \n",
    "\n",
    "print (\"Resultant Dictionary : \"+str(iniordered_dict))"
   ]
  },
  {
   "cell_type": "markdown",
   "id": "405aaac6",
   "metadata": {},
   "source": [
    "6. Write a Python program to check order of character in string using OrderedDict()?"
   ]
  },
  {
   "cell_type": "code",
   "execution_count": 8,
   "id": "317bc50d",
   "metadata": {},
   "outputs": [
    {
     "name": "stdout",
     "output_type": "stream",
     "text": [
      "true\n"
     ]
    }
   ],
   "source": [
    "\n",
    "from collections import OrderedDict\n",
    "\n",
    "def checkOrder(input, pattern):\n",
    "\n",
    "\tdict = OrderedDict.fromkeys(input)\n",
    "\n",
    "\n",
    "\tptrlen = 0\n",
    "\tfor key,value in dict.items():\n",
    "\t\tif (key == pattern[ptrlen]):\n",
    "\t\t\tptrlen = ptrlen + 1\n",
    "\t\t\n",
    "\t\t\n",
    "\t\tif (ptrlen == (len(pattern))):\n",
    "\t\t\treturn 'true'\n",
    "\n",
    "\t\n",
    "\treturn 'false'\n",
    "\n",
    "\n",
    "if __name__ == \"__main__\":\n",
    "\tinput = 'engineers rock'\n",
    "\tpattern = 'er'\n",
    "\tprint (checkOrder(input,pattern))\n"
   ]
  },
  {
   "cell_type": "markdown",
   "id": "6e3c6e11",
   "metadata": {},
   "source": [
    "7. Write a Python program to sort Python Dictionaries by Key or Value?"
   ]
  },
  {
   "cell_type": "code",
   "execution_count": 10,
   "id": "f890e523",
   "metadata": {},
   "outputs": [
    {
     "name": "stdout",
     "output_type": "stream",
     "text": [
      "key_value {2: 56, 1: 2, 5: 12, 4: 24, 6: 18, 3: 323}\n",
      "Task 2:-\n",
      "Keys and Values sorted in alphabetical order by the key \n",
      "(1, 2) (2, 56) (3, 323) (4, 24) (5, 12) (6, 18) "
     ]
    }
   ],
   "source": [
    "\n",
    "def dictionairy():\n",
    "\n",
    "\n",
    "\tkey_value = {}\n",
    "\n",
    "\n",
    "\tkey_value[2] = 56\n",
    "\tkey_value[1] = 2\n",
    "\tkey_value[5] = 12\n",
    "\tkey_value[4] = 24\n",
    "\tkey_value[6] = 18\n",
    "\tkey_value[3] = 323\n",
    "\t\n",
    "\tprint(\"key_value\",key_value)\n",
    "\n",
    "\tprint(\"Keys and Values sorted in\",\n",
    "\t\t\"alphabetical order by the key \")\n",
    "\t\n",
    "\n",
    "\t\n",
    "\tfor i in sorted(key_value):\n",
    "\t\tprint((i, key_value[i]), end=\" \")\n",
    "\n",
    "\n",
    "def main():\n",
    "\t\t\n",
    "\tdictionairy()\n",
    "\n",
    "\n",
    "\n",
    "if __name__ == \"__main__\":\n",
    "\tmain()\n"
   ]
  },
  {
   "cell_type": "code",
   "execution_count": null,
   "id": "d7457b16",
   "metadata": {},
   "outputs": [],
   "source": []
  }
 ],
 "metadata": {
  "kernelspec": {
   "display_name": "Python 3 (ipykernel)",
   "language": "python",
   "name": "python3"
  },
  "language_info": {
   "codemirror_mode": {
    "name": "ipython",
    "version": 3
   },
   "file_extension": ".py",
   "mimetype": "text/x-python",
   "name": "python",
   "nbconvert_exporter": "python",
   "pygments_lexer": "ipython3",
   "version": "3.9.13"
  }
 },
 "nbformat": 4,
 "nbformat_minor": 5
}
