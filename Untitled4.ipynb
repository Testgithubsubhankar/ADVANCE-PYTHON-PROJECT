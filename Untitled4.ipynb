{
 "cells": [
  {
   "cell_type": "markdown",
   "id": "79bf8d66",
   "metadata": {},
   "source": [
    "1. Write a Python program to find words which are greater than given length k?"
   ]
  },
  {
   "cell_type": "code",
   "execution_count": 2,
   "id": "88ab9585",
   "metadata": {},
   "outputs": [
    {
     "name": "stdout",
     "output_type": "stream",
     "text": [
      "['hello', 'greatest', 'scientist']\n"
     ]
    }
   ],
   "source": [
    "n=\"hello I am the greatest data scientist\"; k=4\n",
    "s=n.split(\" \")\n",
    "l=list(filter(lambda x: (len(x)>k),s))\n",
    "print(l)"
   ]
  },
  {
   "cell_type": "markdown",
   "id": "94a21acd",
   "metadata": {},
   "source": [
    "2. Write a Python program for removing i-th character from a string?"
   ]
  },
  {
   "cell_type": "code",
   "execution_count": 3,
   "id": "800de508",
   "metadata": {},
   "outputs": [
    {
     "name": "stdout",
     "output_type": "stream",
     "text": [
      "The string after removal of i'th character : DAAISOIL\n"
     ]
    }
   ],
   "source": [
    "test_str = \"DATAISOIL\"\n",
    " \n",
    "\n",
    "new_str = \"\"\n",
    " \n",
    "for i in range(len(test_str)):\n",
    "    if i != 2:\n",
    "        new_str = new_str + test_str[i]\n",
    " \n",
    "\n",
    "print (\"The string after removal of i'th character : \" + new_str)"
   ]
  },
  {
   "cell_type": "markdown",
   "id": "278c5486",
   "metadata": {},
   "source": [
    "3. Write a Python program to split and join a string?"
   ]
  },
  {
   "cell_type": "code",
   "execution_count": 4,
   "id": "90c01d37",
   "metadata": {},
   "outputs": [
    {
     "name": "stdout",
     "output_type": "stream",
     "text": [
      "['Data', 'is', 'Data']\n",
      "Data-is-Data\n"
     ]
    }
   ],
   "source": [
    "s = 'Data is Data'\n",
    "print(s.split(\" \"))\n",
    "print(\"-\".join(s.split()))"
   ]
  },
  {
   "cell_type": "markdown",
   "id": "8df52fe4",
   "metadata": {},
   "source": [
    "4. Write a Python to check if a given string is binary string or not?"
   ]
  },
  {
   "cell_type": "code",
   "execution_count": 5,
   "id": "fedcbb67",
   "metadata": {},
   "outputs": [
    {
     "name": "stdout",
     "output_type": "stream",
     "text": [
      "Binary String\n",
      "Non Binary String\n"
     ]
    }
   ],
   "source": [
    "def check(string) :\n",
    "    b = set(string)\n",
    "    s = {'0', '1'}\n",
    "    if s == b or b == {'0'} or b == {'1'}:\n",
    "        print(\"Binary String\")\n",
    "    else :\n",
    "        print(\"Non Binary String\")\n",
    "  \n",
    "s1= \"00110101\"\n",
    "check(s1)\n",
    "s2 = \"1010100200111\"\n",
    "check(s2)"
   ]
  },
  {
   "cell_type": "markdown",
   "id": "46acfb8e",
   "metadata": {},
   "source": [
    "5. Write a Python program to find uncommon words from two Strings?"
   ]
  },
  {
   "cell_type": "code",
   "execution_count": 7,
   "id": "d90fdb44",
   "metadata": {},
   "outputs": [
    {
     "name": "stdout",
     "output_type": "stream",
     "text": [
      "['AI', 'In']\n"
     ]
    }
   ],
   "source": [
    "def UncommonWords(A, B):\n",
    "    A=A.split()\n",
    "    B=B.split()\n",
    "    x=[]\n",
    "    for i in A:\n",
    "        if i not in B:\n",
    "            x.append(i)\n",
    "    for i in B:\n",
    "        if i not in A:\n",
    "            x.append(i)\n",
    "    x=list(set(x))\n",
    "    return x\n",
    "             \n",
    " \n",
    "\n",
    "A = \"Data science is Future\"\n",
    "B = \"AI In Data science is Future \"\n",
    " \n",
    "\n",
    "print(UncommonWords(A, B))"
   ]
  },
  {
   "cell_type": "markdown",
   "id": "af8f2e97",
   "metadata": {},
   "source": [
    "6. Write a Python to find all duplicate characters in string?"
   ]
  },
  {
   "cell_type": "code",
   "execution_count": 8,
   "id": "853bc971",
   "metadata": {},
   "outputs": [
    {
     "name": "stdout",
     "output_type": "stream",
     "text": [
      "I   A\n"
     ]
    }
   ],
   "source": [
    "def find_dup_char(input):\n",
    "    x = filter(lambda x: input.count(x) >= 2, input)\n",
    "    print(' '.join(set(x)))\n",
    " \n",
    " \n",
    "\n",
    "if __name__ == \"__main__\":\n",
    "    input = 'AI IN AI'\n",
    "    find_dup_char(input)"
   ]
  },
  {
   "cell_type": "markdown",
   "id": "a2451fbb",
   "metadata": {},
   "source": [
    "7. Write a Python Program to check if a string contains any special character?"
   ]
  },
  {
   "cell_type": "code",
   "execution_count": 13,
   "id": "79284971",
   "metadata": {},
   "outputs": [
    {
     "name": "stdout",
     "output_type": "stream",
     "text": [
      "yes\n"
     ]
    }
   ],
   "source": [
    "special_characters = \"!@#$%^&*()-+?_=,<>/\"\n",
    "s=\"$datascience\"\n",
    "\n",
    "\n",
    "if any(e in special_characters for e in s):\n",
    "    print(\"yes\")\n",
    "else:\n",
    "    print(\"no\")"
   ]
  },
  {
   "cell_type": "code",
   "execution_count": null,
   "id": "d52c23f0",
   "metadata": {},
   "outputs": [],
   "source": []
  }
 ],
 "metadata": {
  "kernelspec": {
   "display_name": "Python 3 (ipykernel)",
   "language": "python",
   "name": "python3"
  },
  "language_info": {
   "codemirror_mode": {
    "name": "ipython",
    "version": 3
   },
   "file_extension": ".py",
   "mimetype": "text/x-python",
   "name": "python",
   "nbconvert_exporter": "python",
   "pygments_lexer": "ipython3",
   "version": "3.9.13"
  }
 },
 "nbformat": 4,
 "nbformat_minor": 5
}
